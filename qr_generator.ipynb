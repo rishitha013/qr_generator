{
 "cells": [
  {
   "cell_type": "code",
   "execution_count": null,
   "id": "cd572476-0e23-44ab-9127-8f0168b2bed7",
   "metadata": {},
   "outputs": [],
   "source": []
  }
 ],
 "metadata": {
  "kernelspec": {
   "display_name": "",
   "name": ""
  },
  "language_info": {
   "name": ""
  }
 },
 "nbformat": 4,
 "nbformat_minor": 5
}
